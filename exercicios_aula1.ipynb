{
  "nbformat": 4,
  "nbformat_minor": 0,
  "metadata": {
    "colab": {
      "name": "exercicios_aula1.ipynb",
      "provenance": [],
      "collapsed_sections": [
        "Nkq5bPkibvpV",
        "yMlt77WNfA8s",
        "ptMc-uDCYAcS",
        "1m5VDLuhfOuH",
        "pZbSeY1AZ7QU",
        "vkZs8G6PXs2C"
      ]
    },
    "kernelspec": {
      "name": "python3",
      "display_name": "Python 3"
    }
  },
  "cells": [
    {
      "cell_type": "markdown",
      "metadata": {
        "id": "Nkq5bPkibvpV"
      },
      "source": [
        "# exercício 1: tempo médio por milhas e velocidade em milhas por hora"
      ]
    },
    {
      "cell_type": "code",
      "metadata": {
        "colab": {
          "base_uri": "https://localhost:8080/"
        },
        "id": "Iq1eM6vib8Zx",
        "outputId": "732d0264-900e-4c3a-a9ef-ac9291260d1b"
      },
      "source": [
        "print(\"distância percorrida (em km)\")\r\n",
        "d = float(input())\r\n",
        "print(\"tempo total (em min)\")\r\n",
        "t = float(input())\r\n",
        "\r\n",
        "tm = (t/60)*(d/1.61)\r\n",
        "vm = 1/tm\r\n",
        "\r\n",
        "print(\"tempo médio por milhas ->\", tm)\r\n",
        "print(\"velocidade média em milhas por hora ->\", vm)\r\n"
      ],
      "execution_count": 12,
      "outputs": [
        {
          "output_type": "stream",
          "text": [
            "distância percorrida (em km)\n",
            "10\n",
            "tempo total (em min)\n",
            "46.5\n",
            "tempo médio por milhas -> 4.813664596273291\n",
            "velocidade média em milhas por hora -> 0.207741935483871\n"
          ],
          "name": "stdout"
        }
      ]
    },
    {
      "cell_type": "markdown",
      "metadata": {
        "id": "yMlt77WNfA8s"
      },
      "source": [
        "# exercício 2: distância dos fogos de artifício"
      ]
    },
    {
      "cell_type": "code",
      "metadata": {
        "colab": {
          "base_uri": "https://localhost:8080/"
        },
        "id": "rsbRw8ukfbvM",
        "outputId": "5703bb00-c06f-4285-af92-fdb1adf4aade"
      },
      "source": [
        "print(\"intervalo entre o som e a luz (em segundos)\")\r\n",
        "t = float(input())\r\n",
        "\r\n",
        "d = t/343.000393542\r\n",
        "\r\n",
        "print(\"a distância é de\", d, \"metros\")"
      ],
      "execution_count": 14,
      "outputs": [
        {
          "output_type": "stream",
          "text": [
            "intervalo entre o som e a luz (em segundos)\n",
            "3\n",
            "a distância é de 0.008746345649987289 metros\n"
          ],
          "name": "stdout"
        }
      ]
    },
    {
      "cell_type": "markdown",
      "metadata": {
        "id": "ptMc-uDCYAcS"
      },
      "source": [
        "# exercício 3: zeros de função quadrática"
      ]
    },
    {
      "cell_type": "code",
      "metadata": {
        "id": "nDK-JBtZ9Y4A",
        "colab": {
          "base_uri": "https://localhost:8080/"
        },
        "outputId": "e02dad61-ff28-4a26-e68d-5e6f460ae94c"
      },
      "source": [
        "import math\r\n",
        "\r\n",
        "a = float(input())\r\n",
        "b = float(input())\r\n",
        "c = float(input())\r\n",
        "\r\n",
        "x1 = (-b + math.sqrt(b**2 - 4*a*c))/(2*a)\r\n",
        "x2 = (-b - math.sqrt(b**2 - 4*a*c))/(2*a)\r\n",
        "\r\n",
        "print()\r\n",
        "print(\"x1 =\", x1)\r\n",
        "print(\"x2 =\", x2)\r\n"
      ],
      "execution_count": 4,
      "outputs": [
        {
          "output_type": "stream",
          "text": [
            "3\n",
            "-4\n",
            "-10\n",
            "\n",
            "x1 = 2.610317298281767\n",
            "x2 = -1.2769839649484336\n"
          ],
          "name": "stdout"
        }
      ]
    },
    {
      "cell_type": "markdown",
      "metadata": {
        "id": "1m5VDLuhfOuH"
      },
      "source": [
        "# exercício 4: ângulo zenital"
      ]
    },
    {
      "cell_type": "code",
      "metadata": {
        "colab": {
          "base_uri": "https://localhost:8080/"
        },
        "id": "JORTW6FJfcwE",
        "outputId": "161eeab8-5934-461e-fb58-f841418df48d"
      },
      "source": [
        "import math\r\n",
        "\r\n",
        "print(\"tamanho do poste (em metros)\")\r\n",
        "t = float(input())\r\n",
        "print(\"tamanho da sombra (em metros)\")\r\n",
        "s = float(input())\r\n",
        "\r\n",
        "a = math.atan(t/s)\r\n",
        "\r\n",
        "print(\"o ângulo zenital é\", a)\r\n"
      ],
      "execution_count": 19,
      "outputs": [
        {
          "output_type": "stream",
          "text": [
            "tamanho do poste\n",
            "5\n",
            "tamanho da sombra\n",
            "0.5\n",
            "o ângulo zenital é 1.4711276743037347\n"
          ],
          "name": "stdout"
        }
      ]
    },
    {
      "cell_type": "markdown",
      "metadata": {
        "id": "pZbSeY1AZ7QU"
      },
      "source": [
        "# exercício 5: cálculo de IMC"
      ]
    },
    {
      "cell_type": "code",
      "metadata": {
        "colab": {
          "base_uri": "https://localhost:8080/"
        },
        "id": "Q4iY_8BlZ42X",
        "outputId": "3d5858e7-2ac7-4311-b668-58380279fc1b"
      },
      "source": [
        "print(\"sua massa (em kg)\")\r\n",
        "m = float(input())\r\n",
        "print(\"sua altura (em metros)\")\r\n",
        "a = float(input())\r\n",
        "\r\n",
        "imc = m/a**2\r\n",
        "\r\n",
        "print(\"IMC é\", imc)"
      ],
      "execution_count": 11,
      "outputs": [
        {
          "output_type": "stream",
          "text": [
            "sua massa (em kg)\n",
            "11\n",
            "sua altura (em metros)\n",
            "0.7\n",
            "IMC é 22.44897959183674\n"
          ],
          "name": "stdout"
        }
      ]
    },
    {
      "cell_type": "markdown",
      "metadata": {
        "id": "vkZs8G6PXs2C"
      },
      "source": [
        "# exercício 6: velocidade e tempo de queda livre"
      ]
    },
    {
      "cell_type": "code",
      "metadata": {
        "colab": {
          "base_uri": "https://localhost:8080/"
        },
        "id": "FwmGZwkaX9cQ",
        "outputId": "880a8b40-fb65-4787-a521-53f59adbd6b3"
      },
      "source": [
        "import math\r\n",
        "\r\n",
        "print(\"altura da queda\")\r\n",
        "h = float(input())\r\n",
        "\r\n",
        "v = math.sqrt(2*9.8*h)\r\n",
        "t = math.sqrt((2*h)/9.8)\r\n",
        "\r\n",
        "print()\r\n",
        "print(\"velocidade após\", h, \"metros é\", v, \"m/s e o tempo de queda é de\", t, \"s\")"
      ],
      "execution_count": 6,
      "outputs": [
        {
          "output_type": "stream",
          "text": [
            "3\n",
            "\n",
            "velocidade após 3.0 metros é 7.6681158050723255 m/s e o tempo de queda é de 0.7824607964359516 s\n"
          ],
          "name": "stdout"
        }
      ]
    }
  ]
}